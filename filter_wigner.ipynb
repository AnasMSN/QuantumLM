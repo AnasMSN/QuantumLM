{
 "cells": [
  {
   "cell_type": "code",
   "execution_count": 3,
   "id": "638549b3",
   "metadata": {},
   "outputs": [],
   "source": [
    "import pandas as pd\n",
    "\n",
    "# Load your CSV\n",
    "df = pd.read_csv(\"wigner_analysis_results.csv\")\n",
    "\n",
    "filtered_df = df[~df['ground_truth'].str.contains(\"<think>\", na=False)]\n",
    "\n",
    "# Optional: Save the filtered result\n",
    "filtered_df.to_csv(\"filtered_wigner_results.csv\", index=False)\n"
   ]
  },
  {
   "cell_type": "code",
   "execution_count": null,
   "id": "2f51bb73",
   "metadata": {},
   "outputs": [],
   "source": [
    "import pandas as pd\n",
    "\n",
    "# Load filtered results\n",
    "filtered_df = pd.read_csv(\"filtered_wigner_results.csv\")\n",
    "\n",
    "# Load metadata with ground truth\n",
    "metadata_df = pd.read_csv(\"metadata-qutip-color_2d3d_blues.csv\")\n",
    "\n",
    "# Merge both dataframes on the 'image' column\n",
    "merged_df = pd.merge(filtered_df, metadata_df[['image', 'ground_truth', 'type']], on='image', how='left')\n",
    "\n",
    "# Save merged result\n",
    "merged_df.to_csv(\"filtered_with_ground_truth.csv\", index=False)"
   ]
  }
 ],
 "metadata": {
  "kernelspec": {
   "display_name": "llmfinetune",
   "language": "python",
   "name": "python3"
  },
  "language_info": {
   "codemirror_mode": {
    "name": "ipython",
    "version": 3
   },
   "file_extension": ".py",
   "mimetype": "text/x-python",
   "name": "python",
   "nbconvert_exporter": "python",
   "pygments_lexer": "ipython3",
   "version": "3.12.8"
  }
 },
 "nbformat": 4,
 "nbformat_minor": 5
}
