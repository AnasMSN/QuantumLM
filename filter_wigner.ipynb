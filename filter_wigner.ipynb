{
 "cells": [
  {
   "cell_type": "code",
   "execution_count": 7,
   "id": "638549b3",
   "metadata": {},
   "outputs": [],
   "source": [
    "import pandas as pd\n",
    "\n",
    "# Load your CSV\n",
    "df = pd.read_csv(\"wigner_analysis_results_filtered.csv\")\n",
    "\n",
    "filtered_df = df[~df['ground_truth'].str.contains(\"<think>\", na=False)]\n",
    "\n",
    "# Optional: Save the filtered result\n",
    "filtered_df.to_csv(\"filtered_wigner_results_2nd.csv\", index=False)\n"
   ]
  },
  {
   "cell_type": "code",
   "execution_count": 8,
   "id": "2f51bb73",
   "metadata": {},
   "outputs": [],
   "source": [
    "import pandas as pd\n",
    "\n",
    "# Load filtered results\n",
    "filtered_df = pd.read_csv(\"filtered_wigner_results_2nd.csv\")\n",
    "\n",
    "# Load metadata with ground truth\n",
    "metadata_df = pd.read_csv(\"metadata-qutip-color_2d3d_blues.csv\")\n",
    "\n",
    "# Merge both dataframes on the 'image' column\n",
    "merged_df = pd.merge(filtered_df, metadata_df[['image', 'ground_truth', 'type']], on='image', how='left')\n",
    "\n",
    "# Save merged result\n",
    "merged_df.to_csv(\"filtered_with_ground_truth_2nd.csv\", index=False)"
   ]
  },
  {
   "cell_type": "code",
   "execution_count": null,
   "id": "53248263",
   "metadata": {},
   "outputs": [],
   "source": [
    "import pandas as pd\n",
    "\n",
    "# Load both CSV files\n",
    "df1 = pd.read_csv('wigner_analysis_results_combined.csv')         # target file\n",
    "df2 = pd.read_csv('wigner_analysis_results_filtered_2nd.csv')     # source with ground_truth\n",
    "\n",
    "# Merge ground_truth from df2 into df1 based on 'image' column\n",
    "merged_df = df1.merge(df2[['image', 'ground_truth']], on='image', how='left')\n",
    "\n",
    "# Save the merged result back to df1's file (or a new file if you want to preserve original)\n",
    "merged_df.to_csv('wigner_analysis_results_combined.csv', index=False)\n",
    " "
   ]
  },
  {
   "cell_type": "code",
   "execution_count": 3,
   "id": "98be74c5",
   "metadata": {},
   "outputs": [],
   "source": [
    "import pandas as pd\n",
    "\n",
    "# Assuming your DataFrame is loaded from CSV or already exists\n",
    "df = pd.read_csv('wigner_analysis_results_filtered_combined.csv')  # if inside ipynb you already have df, skip this\n",
    "\n",
    "# Define a function to check if first line contains <think>\n",
    "def has_think_in_first_line(text):\n",
    "    if pd.isna(text):\n",
    "        return False\n",
    "    first_line = text.split('\\n')[0]\n",
    "    return '<think>' in first_line\n",
    "\n",
    "# Filter: Keep only rows where first line DOES NOT contain <think>\n",
    "filtered_df = df[~df['ground_truth'].apply(has_think_in_first_line)]\n",
    "\n",
    "\n",
    "# Optionally save\n",
    "filtered_df.to_csv('wigner_analysis_results_filtered_negative.csv', index=False)\n"
   ]
  }
 ],
 "metadata": {
  "kernelspec": {
   "display_name": "anas_env",
   "language": "python",
   "name": "python3"
  },
  "language_info": {
   "codemirror_mode": {
    "name": "ipython",
    "version": 3
   },
   "file_extension": ".py",
   "mimetype": "text/x-python",
   "name": "python",
   "nbconvert_exporter": "python",
   "pygments_lexer": "ipython3",
   "version": "3.11.9"
  }
 },
 "nbformat": 4,
 "nbformat_minor": 5
}
