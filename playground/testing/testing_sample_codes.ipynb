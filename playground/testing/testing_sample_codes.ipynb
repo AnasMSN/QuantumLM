{
 "cells": [
  {
   "cell_type": "code",
   "execution_count": 1,
   "metadata": {},
   "outputs": [
    {
     "ename": "ImportError",
     "evalue": "cannot import name 'execute' from 'qiskit' (/home/cqilab/anaconda3/envs/anas_env/lib/python3.11/site-packages/qiskit/__init__.py)",
     "output_type": "error",
     "traceback": [
      "\u001b[0;31m---------------------------------------------------------------------------\u001b[0m",
      "\u001b[0;31mImportError\u001b[0m                               Traceback (most recent call last)",
      "Cell \u001b[0;32mIn[1], line 2\u001b[0m\n\u001b[1;32m      1\u001b[0m \u001b[38;5;28;01mfrom\u001b[39;00m \u001b[38;5;21;01mqiskit\u001b[39;00m \u001b[38;5;28;01mimport\u001b[39;00m QuantumCircuit, QuantumRegister, ClassicalRegister\n\u001b[0;32m----> 2\u001b[0m \u001b[38;5;28;01mfrom\u001b[39;00m \u001b[38;5;21;01mqiskit\u001b[39;00m \u001b[38;5;28;01mimport\u001b[39;00m execute, Aer\n\u001b[1;32m      3\u001b[0m \u001b[38;5;28;01mimport\u001b[39;00m \u001b[38;5;21;01mnumpy\u001b[39;00m \u001b[38;5;28;01mas\u001b[39;00m \u001b[38;5;21;01mnp\u001b[39;00m\n\u001b[1;32m      5\u001b[0m backend \u001b[38;5;241m=\u001b[39m Aer\u001b[38;5;241m.\u001b[39mget_backend(\u001b[38;5;124m\"\u001b[39m\u001b[38;5;124mqasm_simulator\u001b[39m\u001b[38;5;124m\"\u001b[39m)\n",
      "\u001b[0;31mImportError\u001b[0m: cannot import name 'execute' from 'qiskit' (/home/cqilab/anaconda3/envs/anas_env/lib/python3.11/site-packages/qiskit/__init__.py)"
     ]
    }
   ],
   "source": [
    "from qiskit import QuantumCircuit, QuantumRegister, ClassicalRegister\n",
    "from qiskit import execute, Aer\n",
    "import numpy as np\n",
    "\n",
    "backend = Aer.get_backend(\"qasm_simulator\")\n",
    "\n",
    "shots = 1024\n",
    "\n",
    "qc = QuantumCircuit()\n",
    "\n",
    "q = QuantumRegister(2, 'q')\n",
    "\n",
    "qc.add_register(q)\n",
    "\n",
    "qc.h(q[0])\n",
    "qc.rz(2.2434140358484087, q[1])\n",
    "qc.rz(2.935062283109804, q[0])\n",
    "qc.sdg(q[1])\n",
    "qc.y(q[0])\n",
    "qc.rz(0.9753404422897628, q[1])\n",
    "qc.t(q[0])\n",
    "qc.sdg(q[1])\n",
    "qc.z(q[0])\n",
    "qc.s(q[1])\n",
    "qc.rx(0.6561978107911791, q[0])\n",
    "qc.t(q[1])\n",
    "qc.cx(q[1], q[0])\n",
    "\n",
    "job = execute(qc, backend=backend, shots=shots)\n",
    "job_result = job.result()\n",
    "print(job_result.get_counts(qc))"
   ]
  }
 ],
 "metadata": {
  "kernelspec": {
   "display_name": "anas_env",
   "language": "python",
   "name": "python3"
  },
  "language_info": {
   "codemirror_mode": {
    "name": "ipython",
    "version": 3
   },
   "file_extension": ".py",
   "mimetype": "text/x-python",
   "name": "python",
   "nbconvert_exporter": "python",
   "pygments_lexer": "ipython3",
   "version": "3.11.9"
  }
 },
 "nbformat": 4,
 "nbformat_minor": 2
}
