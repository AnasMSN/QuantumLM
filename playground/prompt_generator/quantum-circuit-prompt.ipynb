{
 "cells": [
  {
   "cell_type": "code",
   "execution_count": 1,
   "metadata": {},
   "outputs": [
    {
     "name": "stdout",
     "output_type": "stream",
     "text": [
      "New dataset saved at: Dataset/Source1/quantum_circuits_1_qubit_with_prompt.csv\n",
      "New dataset saved at: Dataset/Source1/quantum_circuits_2_qubit_with_prompt.csv\n",
      "New dataset saved at: Dataset/Source1/quantum_circuits_3_qubit_with_prompt.csv\n",
      "New dataset saved at: Dataset/Source1/quantum_circuits_4_qubit_with_prompt.csv\n",
      "New dataset saved at: Dataset/Source1/quantum_circuits_5_qubit_with_prompt.csv\n",
      "New dataset saved at: Dataset/Source1/quantum_circuits_6_qubit_with_prompt.csv\n",
      "New dataset saved at: Dataset/Source1/quantum_circuits_7_qubit_with_prompt.csv\n",
      "New dataset saved at: Dataset/Source1/quantum_circuits_8_qubit_with_prompt.csv\n",
      "New dataset saved at: Dataset/Source1/quantum_circuits_9_qubit_with_prompt.csv\n",
      "New dataset saved at: Dataset/Source1/quantum_circuits_10_qubit_with_prompt.csv\n",
      "New dataset saved at: Dataset/Source1/quantum_circuits_11_qubit_with_prompt.csv\n",
      "New dataset saved at: Dataset/Source1/quantum_circuits_12_qubit_with_prompt.csv\n",
      "New dataset saved at: Dataset/Source1/quantum_circuits_13_qubit_with_prompt.csv\n",
      "New dataset saved at: Dataset/Source1/quantum_circuits_14_qubit_with_prompt.csv\n"
     ]
    }
   ],
   "source": [
    "import pandas as pd\n",
    "import random\n",
    "\n",
    "# Load the original dataset (replace with your actual file path)\n",
    "# create list based on \"Dataset/Source1/quantum_circuits_{number}_qubit.csv\" from 1 to 14\n",
    "data_files = [\"Dataset/Source1/quantum_circuits_1_qubit.csv\", \n",
    "              \"Dataset/Source1/quantum_circuits_2_qubit.csv\", \n",
    "              \"Dataset/Source1/quantum_circuits_3_qubit.csv\", \n",
    "              \"Dataset/Source1/quantum_circuits_4_qubit.csv\",\n",
    "              \"Dataset/Source1/quantum_circuits_5_qubit.csv\",\n",
    "              \"Dataset/Source1/quantum_circuits_6_qubit.csv\",\n",
    "              \"Dataset/Source1/quantum_circuits_7_qubit.csv\",\n",
    "              \"Dataset/Source1/quantum_circuits_8_qubit.csv\",\n",
    "              \"Dataset/Source1/quantum_circuits_9_qubit.csv\",\n",
    "              \"Dataset/Source1/quantum_circuits_10_qubit.csv\",\n",
    "              \"Dataset/Source1/quantum_circuits_11_qubit.csv\",\n",
    "              \"Dataset/Source1/quantum_circuits_12_qubit.csv\",\n",
    "              \"Dataset/Source1/quantum_circuits_13_qubit.csv\",\n",
    "              \"Dataset/Source1/quantum_circuits_14_qubit.csv\"\n",
    "            ]\n",
    "\n",
    "for _, file in enumerate(data_files):\n",
    "    df_data = pd.read_csv(file)\n",
    "\n",
    "    # Load the prompt dataset\n",
    "    prompt_file = \"Dataset/Source1/cleaned_quantum_probability_prompts.csv\"  # Update with actual path\n",
    "    df_prompts = pd.read_csv(prompt_file)\n",
    "\n",
    "    # Convert the prompts into a list\n",
    "    prompt_list = df_prompts[\"Prompt\"].tolist()\n",
    "\n",
    "    # Randomly assign prompts to each row in the dataset\n",
    "    df_data[\"prompt\"] = [random.choice(prompt_list) for _ in range(len(df_data))]\n",
    "\n",
    "    # Save the new dataset with the added 'prompt' column\n",
    "    output_file = file.replace(\"qubit\", \"qubit_with_prompt\")  # Update with desired output path\n",
    "    df_data.to_csv(output_file, index=False)\n",
    "\n",
    "    print(f\"New dataset saved at: {output_file}\")\n"
   ]
  }
 ],
 "metadata": {
  "kernelspec": {
   "display_name": "anas_env",
   "language": "python",
   "name": "python3"
  },
  "language_info": {
   "codemirror_mode": {
    "name": "ipython",
    "version": 3
   },
   "file_extension": ".py",
   "mimetype": "text/x-python",
   "name": "python",
   "nbconvert_exporter": "python",
   "pygments_lexer": "ipython3",
   "version": "3.11.9"
  }
 },
 "nbformat": 4,
 "nbformat_minor": 2
}
