{
 "cells": [
  {
   "cell_type": "code",
   "execution_count": 1,
   "metadata": {},
   "outputs": [
    {
     "ename": "NameError",
     "evalue": "name 'N' is not defined",
     "output_type": "error",
     "traceback": [
      "\u001b[0;31m---------------------------------------------------------------------------\u001b[0m",
      "\u001b[0;31mNameError\u001b[0m                                 Traceback (most recent call last)",
      "Cell \u001b[0;32mIn[1], line 35\u001b[0m\n\u001b[1;32m     34\u001b[0m \u001b[38;5;28;01mtry\u001b[39;00m:\n\u001b[0;32m---> 35\u001b[0m     rho_cat \u001b[38;5;241m=\u001b[39m (coherent(\u001b[43mN\u001b[49m, alpha) \u001b[38;5;241m+\u001b[39m coherent(N, \u001b[38;5;241m-\u001b[39malpha))\u001b[38;5;241m.\u001b[39munit()\n\u001b[1;32m     37\u001b[0m     \u001b[38;5;66;03m# loop lin_space based with index and value\u001b[39;00m\n",
      "\u001b[0;31mNameError\u001b[0m: name 'N' is not defined",
      "\nDuring handling of the above exception, another exception occurred:\n",
      "\u001b[0;31mNameError\u001b[0m                                 Traceback (most recent call last)",
      "Cell \u001b[0;32mIn[1], line 52\u001b[0m\n\u001b[1;32m     49\u001b[0m         data\u001b[38;5;241m.\u001b[39mappend([image_path, state_name, \u001b[38;5;124m\"\u001b[39m\u001b[38;5;124m\"\u001b[39m, ground_truth])\n\u001b[1;32m     51\u001b[0m \u001b[38;5;28;01mexcept\u001b[39;00m \u001b[38;5;167;01mException\u001b[39;00m \u001b[38;5;28;01mas\u001b[39;00m e:\n\u001b[0;32m---> 52\u001b[0m     \u001b[38;5;28mprint\u001b[39m(\u001b[38;5;124mf\u001b[39m\u001b[38;5;124m\"\u001b[39m\u001b[38;5;124mError generating \u001b[39m\u001b[38;5;132;01m{\u001b[39;00mstate_name\u001b[38;5;132;01m}\u001b[39;00m\u001b[38;5;124m state (N=\u001b[39m\u001b[38;5;132;01m{\u001b[39;00m\u001b[43mN\u001b[49m\u001b[38;5;132;01m}\u001b[39;00m\u001b[38;5;124m, alpha=\u001b[39m\u001b[38;5;132;01m{\u001b[39;00malpha\u001b[38;5;132;01m}\u001b[39;00m\u001b[38;5;124m): \u001b[39m\u001b[38;5;132;01m{\u001b[39;00me\u001b[38;5;132;01m}\u001b[39;00m\u001b[38;5;124m\"\u001b[39m)\n",
      "\u001b[0;31mNameError\u001b[0m: name 'N' is not defined"
     ]
    }
   ],
   "source": [
    "import numpy as np\n",
    "import pandas as pd\n",
    "import os\n",
    "from qutip import *\n",
    "from matplotlib import pyplot as plt\n",
    "import time\n",
    "\n",
    "# Create output directories\n",
    "output_dir = \"generated_images_qutip_grayscale\"\n",
    "os.makedirs(output_dir, exist_ok=True)\n",
    "\n",
    "# Parameters\n",
    "N_values = [20, 19, 18, 17, 16, 15, 14, 13, 12, 11, 10, 9, 8, 7, 6, 5, 4, 3, 2, 1]\n",
    "alpha_values = [np.sqrt(2), 0.5, 1, 2, 3, 4, 5, 6, 7, 8]\n",
    "n_values = [1, 2, 3, 4, 5, 6, 7, 8]\n",
    "density_values = [0.1, 0.2, 0.3, 0.4, 0.5, 0.6, 0.7, 0.8, 0.9, 1.0]\n",
    "\n",
    "# Define linear spaces\n",
    "lin_space5 = 5\n",
    "lin_space10 = 10\n",
    "lin_space_idx = [lin_space5, lin_space10]\n",
    "lin_space = [np.linspace(-lin_space5, lin_space5,200), np.linspace(-lin_space10,lin_space10,200)]\n",
    "xvec = lin_space[0]\n",
    "\n",
    "# Data storage\n",
    "data = []\n",
    "\n",
    "# Generate images\n",
    "# counter = 0\n",
    "# for N in N_values:\n",
    "#     for alpha in alpha_values:\n",
    "alpha = np.sqrt(2)\n",
    "state_name = \"Cat state\"\n",
    "try:\n",
    "    rho_cat = (coherent(20, alpha) + coherent(20, -alpha)).unit()\n",
    "    \n",
    "    # loop lin_space based with index and value\n",
    "    for idx, xvec in enumerate(lin_space):\n",
    "        W = wigner(rho_cat, xvec, xvec)\n",
    "        \n",
    "        fig, ax = plt.subplots(figsize=(4, 4))\n",
    "        cont = ax.contourf(xvec, xvec, W, 100, cmap='gray')\n",
    "        \n",
    "        image_path = os.path.join(output_dir, f\"{state_name.replace(' ', '_')}_N{N}_alpha{alpha}.png\")\n",
    "        plt.savefig(image_path)\n",
    "        plt.close(fig)\n",
    "        \n",
    "        ground_truth = f\"This is a {state_name.lower()} with alpha equal to {alpha}, number of qubits equal to {N} in the linear space -{lin_space_idx[idx]} to {lin_space_idx[idx]}.\"\n",
    "        data.append([image_path, state_name, \"\", ground_truth])\n",
    "        \n",
    "except Exception as e:\n",
    "    print(f\"Error generating {state_name} state (N={N}, alpha={alpha}): {e}\")\n",
    "            \n"
   ]
  }
 ],
 "metadata": {
  "kernelspec": {
   "display_name": "anas_env",
   "language": "python",
   "name": "python3"
  },
  "language_info": {
   "codemirror_mode": {
    "name": "ipython",
    "version": 3
   },
   "file_extension": ".py",
   "mimetype": "text/x-python",
   "name": "python",
   "nbconvert_exporter": "python",
   "pygments_lexer": "ipython3",
   "version": "3.11.9"
  }
 },
 "nbformat": 4,
 "nbformat_minor": 2
}
