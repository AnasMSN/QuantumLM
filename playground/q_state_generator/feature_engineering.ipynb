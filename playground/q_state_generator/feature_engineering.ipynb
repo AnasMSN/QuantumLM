{
 "cells": [
  {
   "cell_type": "code",
   "execution_count": null,
   "metadata": {},
   "outputs": [],
   "source": [
    "''' Classifier\n",
    "1. Input Image\n",
    "2. Model (CNN, Transformer, ResNet) - DNN, ML Model (Random forest, XGBoost)\n",
    "3. 1-20 output number of qubit, type identification (6)\n",
    "4. Calculate accuracy\n",
    "5. Feature engineering for LLM\n",
    "'''\n",
    "\n",
    "# Code goes here"
   ]
  },
  {
   "cell_type": "code",
   "execution_count": null,
   "metadata": {},
   "outputs": [],
   "source": [
    "''' Chain of thought\n",
    "1. Generate dataset (input - output)\n",
    "2. Generate CoT (CoT + output)\n",
    "3. Linear space -10 to 10\n",
    "\n",
    "CoT:\n",
    "- First I should identify from the image that linear space is range from -10 to 10 in X axis and -10 to 10 in Y axis, therefore linspace is (-10, 10)\n",
    "- (Type) (Equation wigner -> type)\n",
    "- (Type of parameters) \n",
    "- (Number of qubit) (Equation wigner -> number of qubit)\n",
    "- (Parameters)\n",
    "Output:\n",
    "\n",
    "'''\n",
    "# Code goes here\n",
    "rho_coherent = coherent_dm(10, 7)"
   ]
  },
  {
   "cell_type": "code",
   "execution_count": 1,
   "metadata": {},
   "outputs": [
    {
     "data": {
      "text/plain": [
       "' Florence 2 Finetuning \\nFor trial:'"
      ]
     },
     "execution_count": 1,
     "metadata": {},
     "output_type": "execute_result"
    }
   ],
   "source": [
    "''' Florence 2 Finetuning \n",
    "For trial: https://huggingface.co/spaces/gokaygokay/Florence-2\n",
    "\n",
    "'''"
   ]
  },
  {
   "cell_type": "code",
   "execution_count": null,
   "metadata": {},
   "outputs": [],
   "source": []
  }
 ],
 "metadata": {
  "kernelspec": {
   "display_name": "anas_env",
   "language": "python",
   "name": "python3"
  },
  "language_info": {
   "codemirror_mode": {
    "name": "ipython",
    "version": 3
   },
   "file_extension": ".py",
   "mimetype": "text/x-python",
   "name": "python",
   "nbconvert_exporter": "python",
   "pygments_lexer": "ipython3",
   "version": "3.11.9"
  }
 },
 "nbformat": 4,
 "nbformat_minor": 2
}
